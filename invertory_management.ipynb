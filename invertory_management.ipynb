{
  "nbformat": 4,
  "nbformat_minor": 0,
  "metadata": {
    "colab": {
      "name": "invertory management.ipynb",
      "provenance": [],
      "collapsed_sections": []
    },
    "kernelspec": {
      "name": "python3",
      "display_name": "Python 3"
    },
    "language_info": {
      "name": "python"
    }
  },
  "cells": [
    {
      "cell_type": "code",
      "metadata": {
        "id": "dkqnvzqr1U6M"
      },
      "source": [
        "Records = { 101 :{ \"Product name\" : \"cocacola\" , \"Price\" : 90 , \"Quantity\" : \"2l\" , \"Brand\" : \"The coca cola company\" , \"catagory\" : \"soft drinks\" ,\" no of items\" : 100 },\n",
        "            102 :{ \"Product name\" : \"fanta\" , \"Price\" : 90 , \"Quantity\" : \"2l\" , \"Brand\" : \"fanta\" , \"catagory\" : \"soft drinks\" ,\" no of items\" : 100 },\n",
        "            103 :{ \"Product name\" : \"pepsi\" , \"Price\" : 90 , \"Quantity\" : \"2l\" , \"Brand\" : \"Pepsi\" , \"catagory\" : \"soft drinks\" ,\" no of items\" : 100 },\n",
        "            104 :{ \"Product name\" : \"Mirinda\" , \"Price\" : 90 , \"Quantity\" : \"2l\" , \"Brand\" : \"Mirinda\" , \"catagory\" : \"soft drinks\" ,\" no of items\" : 100 },\n",
        "            105 :{ \"Product name\" : \"mountain dew\" , \"Price\" : 90 , \"Quantity\" : \"2l\" , \"Brand\" : \"mountain dew\" , \"catagory\" : \"soft drinks\"  ,\" no of items\" : 100},\n",
        "            106 :{ \"Product name\" : \"sting\" , \"Price\" : 40 , \"Quantity\" : \"1l\" , \"Brand\" : \"sting\" , \"catagory\" : \"soft drinks\" ,\" no of items\" : 100 },\n",
        "            107 :{ \"Product name\" : \"dairymilk\" , \"Price\" : 200 , \"Quantity\" : \"400gm\" , \"Brand\" : \"cadbury\" , \"catagory\" : \"chocolate\"  ,\" no of items\" : 100 },\n",
        "            108 :{ \"Product name\" : \"kitkat\" , \"Price\" : 90 , \"Quantity\" : \"300gm\" , \"Brand\" : \"nestle\" , \"catagory\" : \"chocolate\" ,\" no of items\" : 100},\n",
        "            109 :{ \"Product name\" : \"5-star\" , \"Price\" : 60 , \"Quantity\" : \"100gm\" , \"Brand\" : \"cadbury\" , \"catagory\" : \"chocolate\" ,\" no of items\" : 100},\n",
        "            110 :{ \"Product name\" : \"sneakers\" , \"Price\" : 10 , \"Quantity\" : \"50gm\" , \"Brand\" : \"priyagold\" , \"catagory\" : \"chocolate\" ,\" no of items\" : 100},\n",
        "            111 :{ \"Product name\" : \"sneakers\" , \"Price\" : 40 , \"Quantity\" : \"50gm\" , \"Brand\" : \"sneakers\" , \"catagory\" : \"chocolate\" ,\" no of items\" : 100},\n",
        "            112 :{ \"Product name\" : \"dairymilk silk \" , \"Price\" : 190 , \"Quantity\" : \"600gm\" , \"Brand\" : \"cadbury\" , \"catagory\" : \"chocolate\" ,\" no of items\" : 100 },\n",
        "            113 :{ \"Product name\" : \"bournville\" , \"Price\" : 290 , \"Quantity\" : \"700gm\" , \"Brand\" : \"bournville\" , \"catagory\" : \"chocolate\" ,\" no of items\" : 100 },\n",
        "            114 :{ \"Product name\" : \"Maggie noodles\" , \"Price\" : 90 , \"Quantity\" : \"500gm\" , \"Brand\" : \"nestle\" , \"catagory\" : \"noodles\" ,\" no of items\" : 100 },\n",
        "            115 :{ \"Product name\" : \"yippie noodles\" , \"Price\" : 90 , \"Quantity\" : \"500gm\" , \"Brand\" : \"sunfeast\" , \"catagory\" : \"noodles\" ,\" no of items\" : 100},\n",
        "            116 :{ \"Product name\" : \"patanjali noodles\" , \"Price\" : 90 , \"Quantity\" : \"500gm\" , \"Brand\" : \"patanjali\" , \"catagory\" : \"noodles\" ,\" no of items\" : 100},\n",
        "            117 :{ \"Product name\" : \"knorr soupy noodles\" , \"Price\" : 90 , \"Quantity\" : \"500gm\" , \"Brand\" : \"knorr\" , \"catagory\" : \"noodles\" ,\" no of items\" : 100},\n",
        "            118 :{ \"Product name\" : \"Top ramen\" , \"Price\" : 90 , \"Quantity\" : \"500gm\" , \"Brand\" : \"ramen\" , \"catagory\" : \"noodles\" ,\" no of items\" : 100 },\n",
        "            119 :{ \"Product name\" : \"maggie red pasta\" , \"Price\" : 90 , \"Quantity\" : \"500gm\" , \"Brand\" : \"nestle\" , \"catagory\" : \"pasta\" ,\" no of items\" : 100},\n",
        "            120 :{ \"Product name\" : \"maggie white sauce pasta\" , \"Price\" : 90 , \"Quantity\" : \"500gm\" , \"Brand\" : \"nestle\" , \"catagory\" : \"pasta\" ,\" no of items\" : 100},\n",
        "            121 :{ \"Product name\" : \"maggie italian pasta\" , \"Price\" : 80 , \"Quantity\" : \"500gm\" , \"Brand\" : \"nestle\" , \"catagory\" : \"pasta\" ,\" no of items\" : 100},\n",
        "            122 :{ \"Product name\" : \"maggie cheese pasta\" , \"Price\" : 70 , \"Quantity\" : \"500gm\" , \"Brand\" : \"nestle\" , \"catagory\" : \"pasta\" ,\" no of items\" : 100},\n",
        "            123 :{ \"Product name\" : \"lays magic masala\" , \"Price\" : 40 , \"Quantity\" : \"500gm\" , \"Brand\" : \"lays India\" , \"catagory\" : \"chips\" ,\" no of items\" : 100},\n",
        "            124 :{ \"Product name\" : \"lays classic\" , \"Price\" : 40 , \"Quantity\" : \"400gm\" , \"Brand\" : \"lays India\" , \"catagory\" : \"chips\" ,\" no of items\" : 100},\n",
        "            125 :{ \"Product name\" : \"lays cream & onion\" , \"Price\" : 30 , \"Quantity\" : \"200gm\" , \"Brand\" : \"lays India\" , \"catagory\" : \"chips\" ,\" no of items\" : 100},\n",
        "            126 :{ \"Product name\" : \"lays tango tomato\" , \"Price\" : 30 , \"Quantity\" : \"200gm\" , \"Brand\" : \"lays India\" , \"catagory\" : \"chips\" ,\" no of items\" : 100},\n",
        "            127 :{ \"Product name\" : \"hide & seek\" , \"Price\" : 40 , \"Quantity\" : \"500gm\" , \"Brand\" : \"parle\" , \"catagory\" : \"buscuits\" ,\" no of items\" : 100},\n",
        "            128 :{ \"Product name\" : \"oreo\" , \"Price\" : 90 , \"Quantity\" : \"300gm\" , \"Brand\" : \"cadbury\" , \"catagory\" : \"buscuits\" ,\" no of items\" : 100},\n",
        "            129 :{ \"Product name\" : \"milano\" , \"Price\" : 40 , \"Quantity\" : \"100gm\" , \"Brand\" : \"parle\" , \"catagory\" : \"buscuits\" ,\" no of items\" : 100},\n",
        "            130 :{ \"Product name\" : \"sunfeast farm light oat\" , \"Price\" : 50 , \"Quantity\" : \"250gm\" , \"Brand\" : \"sunfeast\" , \"catagory\" : \"buscuits\" ,\" no of items\" : 100},\n",
        "            131 :{ \"Product name\" : \"butterbite\" , \"Price\" : 20 , \"Quantity\" : \"250gm\" , \"Brand\" : \"priyagold\" , \"catagory\" : \"buscuits\" ,\" no of items\" : 100},\n",
        "            132 :{ \"Product name\" : \"sunfeast dark fantasy\" , \"Price\" : 90 , \"Quantity\" : \"100gm\" , \"Brand\" : \"sunfeast\" , \"catagory\" : \"buscuits\" ,\" no of items\" : 100},\n",
        "            133 :{ \"Product name\" : \"amul cow milk\" , \"Price\" : 90 , \"Quantity\" : \"2l\" , \"Brand\" : \"amul\" , \"catagory\" : \"milk\" ,\" no of items\" : 100},\n",
        "            134 :{ \"Product name\" : \"amul butter\" , \"Price\" : 90 , \"Quantity\" : \"300gm\" , \"Brand\" : \"amul\" , \"catagory\" : \"buscuits\" ,\" no of items\" : 100},\n",
        "            135 :{ \"Product name\" : \"tomato ketchup\" , \"Price\" : 40 , \"Quantity\" : \"100L\" , \"Brand\" : \"kisan\" , \"catagory\" : \"sauce\" ,\" no of items\" : 100},\n",
        "            136 :{ \"Product name\" : \"mayoniese\" , \"Price\" : 190 , \"Quantity\" : \"900gm\" , \"Brand\" : \"veeba\" , \"catagory\" : \"mayoniese\" ,\" no of items\" : 100},\n",
        "            \n",
        "}\n",
        "\n",
        "\n",
        "\n"
      ],
      "execution_count": 11,
      "outputs": []
    },
    {
      "cell_type": "code",
      "metadata": {
        "id": "dZarEE4EN2o_"
      },
      "source": [
        "import json "
      ],
      "execution_count": 45,
      "outputs": []
    },
    {
      "cell_type": "code",
      "metadata": {
        "id": "W9Krlia5N8hG"
      },
      "source": [
        "js = json.dumps(Records)\n"
      ],
      "execution_count": 48,
      "outputs": []
    },
    {
      "cell_type": "code",
      "metadata": {
        "id": "qIMAFjt_OLde"
      },
      "source": [
        "js"
      ],
      "execution_count": null,
      "outputs": []
    },
    {
      "cell_type": "code",
      "metadata": {
        "id": "XBPjIuR1O3om"
      },
      "source": [
        "fd = open(\"Records.json\" , 'w')\n",
        "\n",
        "fd.write(js)\n",
        "\n",
        "fd.close()\n"
      ],
      "execution_count": 51,
      "outputs": []
    },
    {
      "cell_type": "code",
      "metadata": {
        "id": "ibC9ni-KPUlc"
      },
      "source": [
        "fd = open(\"Records.json\" , 'r')\n",
        "\n",
        "text = fd.read()\n",
        "\n",
        "fd.close()"
      ],
      "execution_count": 53,
      "outputs": []
    },
    {
      "cell_type": "code",
      "metadata": {
        "id": "v-T2F6iIQJnL"
      },
      "source": [
        "Records = json.loads(text)"
      ],
      "execution_count": 54,
      "outputs": []
    },
    {
      "cell_type": "code",
      "metadata": {
        "colab": {
          "base_uri": "https://localhost:8080/"
        },
        "id": "EcRVfVq9QX8G",
        "outputId": "b1987550-d29d-4447-b609-ac420bb90102"
      },
      "source": [
        "Records"
      ],
      "execution_count": 62,
      "outputs": [
        {
          "output_type": "execute_result",
          "data": {
            "text/plain": [
              "{'101': {' no of items': 100,\n",
              "  'Brand': 'The coca cola company',\n",
              "  'Price': 90,\n",
              "  'Product name': 'cocacola',\n",
              "  'Quantity': '2l',\n",
              "  'catagory': 'soft drinks'},\n",
              " '102': {' no of items': 100,\n",
              "  'Brand': 'fanta',\n",
              "  'Price': 90,\n",
              "  'Product name': 'fanta',\n",
              "  'Quantity': '2l',\n",
              "  'catagory': 'soft drinks'},\n",
              " '103': {' no of items': 100,\n",
              "  'Brand': 'Pepsi',\n",
              "  'Price': 90,\n",
              "  'Product name': 'pepsi',\n",
              "  'Quantity': '2l',\n",
              "  'catagory': 'soft drinks'},\n",
              " '104': {' no of items': 100,\n",
              "  'Brand': 'Mirinda',\n",
              "  'Price': 90,\n",
              "  'Product name': 'Mirinda',\n",
              "  'Quantity': '2l',\n",
              "  'catagory': 'soft drinks'},\n",
              " '105': {' no of items': 100,\n",
              "  'Brand': 'mountain dew',\n",
              "  'Price': 90,\n",
              "  'Product name': 'mountain dew',\n",
              "  'Quantity': '2l',\n",
              "  'catagory': 'soft drinks'},\n",
              " '106': {' no of items': 100,\n",
              "  'Brand': 'sting',\n",
              "  'Price': 40,\n",
              "  'Product name': 'sting',\n",
              "  'Quantity': '1l',\n",
              "  'catagory': 'soft drinks'},\n",
              " '107': {' no of items': 100,\n",
              "  'Brand': 'cadbury',\n",
              "  'Price': 200,\n",
              "  'Product name': 'dairymilk',\n",
              "  'Quantity': '400gm',\n",
              "  'catagory': 'chocolate'},\n",
              " '108': {' no of items': 100,\n",
              "  'Brand': 'nestle',\n",
              "  'Price': 90,\n",
              "  'Product name': 'kitkat',\n",
              "  'Quantity': '300gm',\n",
              "  'catagory': 'chocolate'},\n",
              " '109': {' no of items': 100,\n",
              "  'Brand': 'cadbury',\n",
              "  'Price': 60,\n",
              "  'Product name': '5-star',\n",
              "  'Quantity': '100gm',\n",
              "  'catagory': 'chocolate'},\n",
              " '110': {' no of items': 100,\n",
              "  'Brand': 'priyagold',\n",
              "  'Price': 10,\n",
              "  'Product name': 'sneakers',\n",
              "  'Quantity': '50gm',\n",
              "  'catagory': 'chocolate'},\n",
              " '111': {' no of items': 100,\n",
              "  'Brand': 'sneakers',\n",
              "  'Price': 40,\n",
              "  'Product name': 'sneakers',\n",
              "  'Quantity': '50gm',\n",
              "  'catagory': 'chocolate'},\n",
              " '112': {' no of items': 100,\n",
              "  'Brand': 'cadbury',\n",
              "  'Price': 190,\n",
              "  'Product name': 'dairymilk silk ',\n",
              "  'Quantity': '600gm',\n",
              "  'catagory': 'chocolate'},\n",
              " '113': {' no of items': 100,\n",
              "  'Brand': 'bournville',\n",
              "  'Price': 290,\n",
              "  'Product name': 'bournville',\n",
              "  'Quantity': '700gm',\n",
              "  'catagory': 'chocolate'},\n",
              " '114': {' no of items': 100,\n",
              "  'Brand': 'nestle',\n",
              "  'Price': 90,\n",
              "  'Product name': 'Maggie noodles',\n",
              "  'Quantity': '500gm',\n",
              "  'catagory': 'noodles'},\n",
              " '115': {' no of items': 100,\n",
              "  'Brand': 'sunfeast',\n",
              "  'Price': 90,\n",
              "  'Product name': 'yippie noodles',\n",
              "  'Quantity': '500gm',\n",
              "  'catagory': 'noodles'},\n",
              " '116': {' no of items': 100,\n",
              "  'Brand': 'patanjali',\n",
              "  'Price': 90,\n",
              "  'Product name': 'patanjali noodles',\n",
              "  'Quantity': '500gm',\n",
              "  'catagory': 'noodles'},\n",
              " '117': {' no of items': 100,\n",
              "  'Brand': 'knorr',\n",
              "  'Price': 90,\n",
              "  'Product name': 'knorr soupy noodles',\n",
              "  'Quantity': '500gm',\n",
              "  'catagory': 'noodles'},\n",
              " '118': {' no of items': 100,\n",
              "  'Brand': 'ramen',\n",
              "  'Price': 90,\n",
              "  'Product name': 'Top ramen',\n",
              "  'Quantity': '500gm',\n",
              "  'catagory': 'noodles'},\n",
              " '119': {' no of items': 100,\n",
              "  'Brand': 'nestle',\n",
              "  'Price': 90,\n",
              "  'Product name': 'maggie red pasta',\n",
              "  'Quantity': '500gm',\n",
              "  'catagory': 'pasta'},\n",
              " '120': {' no of items': 100,\n",
              "  'Brand': 'nestle',\n",
              "  'Price': 90,\n",
              "  'Product name': 'maggie white sauce pasta',\n",
              "  'Quantity': '500gm',\n",
              "  'catagory': 'pasta'},\n",
              " '121': {' no of items': 100,\n",
              "  'Brand': 'nestle',\n",
              "  'Price': 80,\n",
              "  'Product name': 'maggie italian pasta',\n",
              "  'Quantity': '500gm',\n",
              "  'catagory': 'pasta'},\n",
              " '122': {' no of items': 100,\n",
              "  'Brand': 'nestle',\n",
              "  'Price': 70,\n",
              "  'Product name': 'maggie cheese pasta',\n",
              "  'Quantity': '500gm',\n",
              "  'catagory': 'pasta'},\n",
              " '123': {' no of items': 100,\n",
              "  'Brand': 'lays India',\n",
              "  'Price': 40,\n",
              "  'Product name': 'lays magic masala',\n",
              "  'Quantity': '500gm',\n",
              "  'catagory': 'chips'},\n",
              " '124': {' no of items': 100,\n",
              "  'Brand': 'lays India',\n",
              "  'Price': 40,\n",
              "  'Product name': 'lays classic',\n",
              "  'Quantity': '400gm',\n",
              "  'catagory': 'chips'},\n",
              " '125': {' no of items': 100,\n",
              "  'Brand': 'lays India',\n",
              "  'Price': 30,\n",
              "  'Product name': 'lays cream & onion',\n",
              "  'Quantity': '200gm',\n",
              "  'catagory': 'chips'},\n",
              " '126': {' no of items': 100,\n",
              "  'Brand': 'lays India',\n",
              "  'Price': 30,\n",
              "  'Product name': 'lays tango tomato',\n",
              "  'Quantity': '200gm',\n",
              "  'catagory': 'chips'},\n",
              " '127': {' no of items': 100,\n",
              "  'Brand': 'parle',\n",
              "  'Price': 40,\n",
              "  'Product name': 'hide & seek',\n",
              "  'Quantity': '500gm',\n",
              "  'catagory': 'buscuits'},\n",
              " '128': {' no of items': 100,\n",
              "  'Brand': 'cadbury',\n",
              "  'Price': 90,\n",
              "  'Product name': 'oreo',\n",
              "  'Quantity': '300gm',\n",
              "  'catagory': 'buscuits'},\n",
              " '129': {' no of items': 100,\n",
              "  'Brand': 'parle',\n",
              "  'Price': 40,\n",
              "  'Product name': 'milano',\n",
              "  'Quantity': '100gm',\n",
              "  'catagory': 'buscuits'},\n",
              " '130': {' no of items': 100,\n",
              "  'Brand': 'sunfeast',\n",
              "  'Price': 50,\n",
              "  'Product name': 'sunfeast farm light oat',\n",
              "  'Quantity': '250gm',\n",
              "  'catagory': 'buscuits'},\n",
              " '131': {' no of items': 100,\n",
              "  'Brand': 'priyagold',\n",
              "  'Price': 20,\n",
              "  'Product name': 'butterbite',\n",
              "  'Quantity': '250gm',\n",
              "  'catagory': 'buscuits'},\n",
              " '132': {' no of items': 100,\n",
              "  'Brand': 'sunfeast',\n",
              "  'Price': 90,\n",
              "  'Product name': 'sunfeast dark fantasy',\n",
              "  'Quantity': '100gm',\n",
              "  'catagory': 'buscuits'},\n",
              " '133': {' no of items': 100,\n",
              "  'Brand': 'amul',\n",
              "  'Price': 90,\n",
              "  'Product name': 'amul cow milk',\n",
              "  'Quantity': '2l',\n",
              "  'catagory': 'milk'},\n",
              " '134': {' no of items': 68,\n",
              "  'Brand': 'amul',\n",
              "  'Price': 90,\n",
              "  'Product name': 'amul butter',\n",
              "  'Quantity': '300gm',\n",
              "  'catagory': 'buscuits'},\n",
              " '135': {' no of items': 100,\n",
              "  'Brand': 'kisan',\n",
              "  'Price': 40,\n",
              "  'Product name': 'tomato ketchup',\n",
              "  'Quantity': '100L',\n",
              "  'catagory': 'sauce'},\n",
              " '136': {' no of items': 100,\n",
              "  'Brand': 'veeba',\n",
              "  'Price': 190,\n",
              "  'Product name': 'mayoniese',\n",
              "  'Quantity': '900gm',\n",
              "  'catagory': 'mayoniese'}}"
            ]
          },
          "metadata": {},
          "execution_count": 62
        }
      ]
    },
    {
      "cell_type": "code",
      "metadata": {
        "colab": {
          "base_uri": "https://localhost:8080/"
        },
        "id": "MXogQU1EQ7jh",
        "outputId": "c0871eb3-b952-4e3a-e1f9-4b1ee8a32423"
      },
      "source": [
        " customer_name = input(\"please enter your name\")\n",
        " product_id =    input(\"enter the product id  \")\n",
        " product_quantity = int(input(\"enter PACKETS OF THAT ITEM YOU WANT TPO PURCHASE  \"))\n",
        " "
      ],
      "execution_count": 68,
      "outputs": [
        {
          "name": "stdout",
          "output_type": "stream",
          "text": [
            "please enter your namevarsha\n",
            "enter the product id  124\n",
            "enter PACKETS OF THAT ITEM YOU WANT TPO PURCHASE  4\n"
          ]
        }
      ]
    },
    {
      "cell_type": "code",
      "metadata": {
        "colab": {
          "base_uri": "https://localhost:8080/"
        },
        "id": "FMDKEejnRJLb",
        "outputId": "a0e85451-93fa-42a3-d447-0840c0817c76"
      },
      "source": [
        "print(\"*********************************************************************\")\n",
        "print(\" dear \" , customer_name , \"your bill is ready \")\n",
        " \n",
        "print(\"*********************************************************************\")\n",
        "print(\"*********************************************************************\")\n",
        " \n",
        "print(\" PRODUCT NAME : \" ,  Records[product_id][\"Product name\"])\n",
        "print(\" PRODUCT BRAND : \" , Records[product_id][\"Brand\"])\n",
        "print(\" QUANTITY OF PRODUCT :\" , Records[product_id][\"Quantity\"] )     \n",
        "print(\" PRICE OF PRODUCT : \" , Records[product_id][\"Price\"]) \n",
        "print(\" NUMBER OF PRODUCT YOU BUY : \" , product_quantity  )      \n",
        "print(\" YOU HAVE TO PAY : \", Records[product_id][\"Price\"] * product_quantity) \n",
        "print(\" HAPPY SHOPPING HAVE A NICE DAY AHEAD !!!!!! \") \n",
        "\n",
        "print(\"*********************************************************************\")"
      ],
      "execution_count": 69,
      "outputs": [
        {
          "output_type": "stream",
          "name": "stdout",
          "text": [
            "*********************************************************************\n",
            " dear  varsha your bill is ready \n",
            "*********************************************************************\n",
            "*********************************************************************\n",
            " PRODUCT NAME :  lays classic\n",
            " PRODUCT BRAND :  lays India\n",
            " QUANTITY OF PRODUCT : 400gm\n",
            " PRICE OF PRODUCT :  40\n",
            " NUMBER OF PRODUCT YOU BUY :  4\n",
            " YOU HAVE TO PAY :  160\n",
            " HAPPY SHOPPING HAVE A NICE DAY AHEAD !!!!!! \n",
            "*********************************************************************\n"
          ]
        }
      ]
    },
    {
      "cell_type": "code",
      "metadata": {
        "id": "O6ySxQHrRSG3"
      },
      "source": [
        "Records[product_id][\" no of items\"] = Records[product_id][\" no of items\"] - product_quantity\n"
      ],
      "execution_count": null,
      "outputs": []
    }
  ]
}